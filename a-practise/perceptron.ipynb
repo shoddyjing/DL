{
 "cells": [
  {
   "cell_type": "code",
   "execution_count": 1,
   "metadata": {
    "code_folding": []
   },
   "outputs": [
    {
     "name": "stdout",
     "output_type": "stream",
     "text": [
      "x=[0,0]时，与门AND GATE:0，与非门NAND GATE:1，或门NAND GATE:0，异或门XOR GATE:0\n",
      "x=[0,1]时，与门AND GATE:0，与非门NAND GATE:1，或门NAND GATE:1，异或门XOR GATE:1\n",
      "x=[1,1]时，与门AND GATE:1，与非门NAND GATE:0，或门NAND GATE:1，异或门XOR GATE:0\n",
      "[NbConvertApp] Converting notebook perceptron.ipynb to python\n",
      "[NbConvertApp] Writing 1421 bytes to perceptron.py\n"
     ]
    }
   ],
   "source": [
    "import numpy as np\n",
    "#朴素感知机：阶跃函数作为激活函数；  单层：与门、与非门、或门；多层(multi-layer perceptron)：异或门。\n",
    "\"\"\"\n",
    "#theta=-b\n",
    "def AND(x1,x2):  \n",
    "   w1, w2, theta = 0.5, 0.5, 0.7\n",
    "    y=x1*w1+x2*w2\n",
    "    if y<=theta:\n",
    "        return 0\n",
    "    elif y>theta:\n",
    "        return 1\n",
    "\"\"\"\n",
    "\n",
    "def AND(x1,x2):  \n",
    "    x=np.array([x1,x2])\n",
    "    w=np.array([0.5,0.5])\n",
    "    b=-0.7\n",
    "    y=np.sum(w*x)+b \n",
    "    if y<=0:\n",
    "        return 0\n",
    "    elif y>0:\n",
    "        return 1\n",
    "\n",
    "def NAND(x1,x2):  \n",
    "    x=np.array([x1,x2])\n",
    "    w=np.array([-0.5,-0.5])\n",
    "    b=0.7\n",
    "    y=np.sum(w*x)+b \n",
    "    if y<=0:\n",
    "        return 0\n",
    "    elif y>0:\n",
    "        return 1\n",
    "\n",
    "def OR(x1,x2):  \n",
    "    x=np.array([x1,x2])\n",
    "    w=np.array([0.5,0.5])\n",
    "    b=-0.2\n",
    "    y=np.sum(w*x)+b \n",
    "    if y<=0:\n",
    "        return 0\n",
    "    elif y>0:\n",
    "        return 1\n",
    "\n",
    "#异或门\n",
    "def XOR(x1,x2):\n",
    "    s1=NAND(x1,x2)\n",
    "    s2=OR(x1,x2)\n",
    "    y=AND(s1,s2)\n",
    "    return y\n",
    "    \n",
    "print(\"x=[0,0]时，与门AND GATE:{}，与非门NAND GATE:{}，或门NAND GATE:{}，异或门XOR GATE:{}\".\\\n",
    "      format(AND(0,0),NAND(0,0),OR(0,0),XOR(0,0)))\n",
    "print(\"x=[0,1]时，与门AND GATE:{}，与非门NAND GATE:{}，或门NAND GATE:{}，异或门XOR GATE:{}\".\\\n",
    "      format(AND(0,1),NAND(0,1),OR(0,1),XOR(0,1)))\n",
    "print(\"x=[1,1]时，与门AND GATE:{}，与非门NAND GATE:{}，或门NAND GATE:{}，异或门XOR GATE:{}\".\\\n",
    "      format(AND(1,1),NAND(1,1),OR(1,1),XOR(1,1)))\n",
    "\n",
    "try:    \n",
    "    !jupyter nbconvert --to python perceptron.ipynb\n",
    "    # python即转化为.py，script即转化为.html\n",
    "except:\n",
    "    pass"
   ]
  },
  {
   "cell_type": "code",
   "execution_count": null,
   "metadata": {},
   "outputs": [],
   "source": []
  },
  {
   "cell_type": "code",
   "execution_count": null,
   "metadata": {},
   "outputs": [],
   "source": []
  }
 ],
 "metadata": {
  "celltoolbar": "原始单元格格式",
  "kernelspec": {
   "display_name": "Python 3",
   "language": "python",
   "name": "python3"
  },
  "language_info": {
   "codemirror_mode": {
    "name": "ipython",
    "version": 3
   },
   "file_extension": ".py",
   "mimetype": "text/x-python",
   "name": "python",
   "nbconvert_exporter": "python",
   "pygments_lexer": "ipython3",
   "version": "3.7.10"
  }
 },
 "nbformat": 4,
 "nbformat_minor": 2
}
