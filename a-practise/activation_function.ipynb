{
 "cells": [
  {
   "cell_type": "code",
   "execution_count": 11,
   "metadata": {},
   "outputs": [
    {
     "data": {
      "image/png": "[encoded data removed]",
      "text/plain": [
       "<Figure size 432x288 with 3 Axes>"
      ]
     },
     "metadata": {
      "needs_background": "light"
     },
     "output_type": "display_data"
    },
    {
     "name": "stdout",
     "output_type": "stream",
     "text": [
      "[NbConvertApp] Converting notebook activation_function.ipynb to python\n",
      "[NbConvertApp] Writing 2314 bytes to activation_function.py\n"
     ]
    }
   ],
   "source": [
    "#ch03.02 page 42-50 (hidden layer's activation function)  \n",
    "#ch03.05 page 63-69 (output layer's activation function)\n",
    "\n",
    "%matplotlib inline   \n",
    "#表示在这里显示图像，不设置时只显示<Figure size 640x480 with 1 Axes>\n",
    "import numpy as np\n",
    "import matplotlib.pylab as plt\n",
    "import matplotlib\n",
    "#print(matplotlib.matplotlib_fname())\n",
    "\n",
    "#step function\n",
    "def step_function(x):# if x>=0:  return 1 elif x<0: return 0\n",
    "    #y=np.array(x>0)\n",
    "    y=np.array(x>0, dtype=np.int)         \n",
    "    return y\n",
    "\n",
    "def sigmoid(x):\n",
    "    y=1/(1+np.exp(-x))  #和非数组计算的广播功能\n",
    "    return y\n",
    "\n",
    "#Rectified Linear Unit function\n",
    "def ReLU(x):\n",
    "  #  y=np.array(x)\n",
    "  #  y[y<=0]=0.0\n",
    "  #  return y\n",
    "    return(np.maximum(x,0)) \n",
    "\n",
    "\n",
    "#输出层激活函数\n",
    "#1. identity_function 恒等函数，apply to regression problems 适合回归问题\n",
    "def identity(a):\n",
    "    return a\n",
    "\n",
    "#2. softmax_function ，apply to classification problems 适合分类问题\n",
    "def softmax(a):\n",
    "    c=np.max(a)\n",
    "    exp_a=np.exp(a-c)    #通过减去最大值防止因e指数后各个数值相差太大而出现的溢出现象。\n",
    "    sum_exp_a=np.sum(exp_a)\n",
    "    y=exp_a/sum_exp_a  #sum_exp_a为一个常数，此处使用了广播功能\n",
    "    return y           #sum(y)=1,且y的大小顺序同输入a(y=e**a为单调递增函数)，所以softmax层有时会被省略   \n",
    "\n",
    "x=np.arange(-3, 3, 0.01)\n",
    "y1=step_function(x)\n",
    "y2=sigmoid(x)\n",
    "y3=ReLU(x)\n",
    "y4=softmax(x)\n",
    "\n",
    "#plt.xlim(-3.5,3.5)\n",
    "#plt.ylim(-1,3.5)\n",
    "plt.xlabel('X')\n",
    "plt.ylabel('Y')\n",
    "\n",
    "\n",
    "plt.subplot(2,1,2)\n",
    "plt.plot(x, y1, color='r', linewidth=1, linestyle='-',label='step_function')\n",
    "plt.plot(x, y2, color='b', linewidth=1, linestyle='--',label='sigmoid_function')\n",
    "plt.legend()\n",
    "#plt.title('两者区别为连续和非连续')\n",
    "#plt.tight_layout()\n",
    "\n",
    "plt.subplot(2,2,2)\n",
    "plt.plot(x, y3, color='c', linewidth=1.5, linestyle=':', label='ReLU_function')\n",
    "plt.legend()\n",
    "plt.title('ReLU')\n",
    "#plt.tight_layout()\n",
    "\n",
    "plt.subplot(2,2,1)\n",
    "plt.plot(x, y4, color='m', linewidth=1.5, linestyle='-.', label='softmax_function')\n",
    "plt.legend()\n",
    "#plt.tight_layout()\n",
    "#, x=0.5, y=1.05, ha='center', va='top'\n",
    "Title=plt.suptitle('activation_function激活函数', fontsize=16)\n",
    "Title.set_color('r')\n",
    "#plt.tight_layout()\n",
    "plt.savefig(fname='/Users/huangjing/Desktop/figures/activation_function.png', dpi=600)\n",
    "plt.show()\n",
    "#y=step_function(x)  #输出bool型\n",
    "#y=y.astype(np.int) #bool型转换为int型时True为1，False为0\n",
    "\n",
    "try:    \n",
    "    !jupyter nbconvert --to python activation_function.ipynb\n",
    "    # python即转化为.py，script即转化为.html\n",
    "except:\n",
    "    pass\n"
   ]
  },
  {
   "cell_type": "code",
   "execution_count": null,
   "metadata": {},
   "outputs": [],
   "source": []
  },
  {
   "cell_type": "code",
   "execution_count": null,
   "metadata": {},
   "outputs": [],
   "source": []
  }
 ],
 "metadata": {
  "kernelspec": {
   "display_name": "Python 3",
   "language": "python",
   "name": "python3"
  },
  "language_info": {
   "codemirror_mode": {
    "name": "ipython",
    "version": 3
   },
   "file_extension": ".py",
   "mimetype": "text/x-python",
   "name": "python",
   "nbconvert_exporter": "python",
   "pygments_lexer": "ipython3",
   "version": "3.7.10"
  },
  "latex_envs": {
   "LaTeX_envs_menu_present": true,
   "autoclose": false,
   "autocomplete": true,
   "bibliofile": "biblio.bib",
   "cite_by": "apalike",
   "current_citInitial": 1,
   "eqLabelWithNumbers": true,
   "eqNumInitial": 1,
   "hotkeys": {
    "equation": "Ctrl-E",
    "itemize": "Ctrl-I"
   },
   "labels_anchors": false,
   "latex_user_defs": false,
   "report_style_numbering": false,
   "user_envs_cfg": false
  }
 },
 "nbformat": 4,
 "nbformat_minor": 2
}
